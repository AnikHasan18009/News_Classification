{
 "cells": [
  {
   "cell_type": "code",
   "execution_count": 11,
   "id": "8bfd30af",
   "metadata": {},
   "outputs": [],
   "source": [
    "import pandas as pd\n",
    "import numpy as np\n",
    "from tqdm.auto import tqdm\n",
    "import tensorflow as tf\n",
    "from matplotlib import pyplot as plt"
   ]
  },
  {
   "cell_type": "code",
   "execution_count": 12,
   "id": "2ca28eea",
   "metadata": {},
   "outputs": [
    {
     "data": {
      "text/html": [
       "<div>\n",
       "<style scoped>\n",
       "    .dataframe tbody tr th:only-of-type {\n",
       "        vertical-align: middle;\n",
       "    }\n",
       "\n",
       "    .dataframe tbody tr th {\n",
       "        vertical-align: top;\n",
       "    }\n",
       "\n",
       "    .dataframe thead th {\n",
       "        text-align: right;\n",
       "    }\n",
       "</style>\n",
       "<table border=\"1\" class=\"dataframe\">\n",
       "  <thead>\n",
       "    <tr style=\"text-align: right;\">\n",
       "      <th></th>\n",
       "      <th>category</th>\n",
       "      <th>headline</th>\n",
       "      <th>link</th>\n",
       "    </tr>\n",
       "  </thead>\n",
       "  <tbody>\n",
       "    <tr>\n",
       "      <th>0</th>\n",
       "      <td>TECHNOLOGY</td>\n",
       "      <td>IBM plans to replace 30% jobs with AI: reports</td>\n",
       "      <td>https://www.thedailystar.net/tech-startup/news...</td>\n",
       "    </tr>\n",
       "    <tr>\n",
       "      <th>1</th>\n",
       "      <td>TECHNOLOGY</td>\n",
       "      <td>Musk threatens to reassign NPR Twitter account...</td>\n",
       "      <td>https://www.thedailystar.net/tech-startup/scie...</td>\n",
       "    </tr>\n",
       "    <tr>\n",
       "      <th>2</th>\n",
       "      <td>TECHNOLOGY</td>\n",
       "      <td>Samsung brings Galaxy A34 5G and Galaxy A54 5G...</td>\n",
       "      <td>https://www.thedailystar.net/tech-startup/news...</td>\n",
       "    </tr>\n",
       "    <tr>\n",
       "      <th>3</th>\n",
       "      <td>TECHNOLOGY</td>\n",
       "      <td>Smart delivery lockers to be installed in metr...</td>\n",
       "      <td>https://www.thedailystar.net/tech-startup/news...</td>\n",
       "    </tr>\n",
       "    <tr>\n",
       "      <th>4</th>\n",
       "      <td>TECHNOLOGY</td>\n",
       "      <td>The Godfather of AI quits Google; warns of imp...</td>\n",
       "      <td>https://www.thedailystar.net/tech-startup/news...</td>\n",
       "    </tr>\n",
       "    <tr>\n",
       "      <th>...</th>\n",
       "      <td>...</td>\n",
       "      <td>...</td>\n",
       "      <td>...</td>\n",
       "    </tr>\n",
       "    <tr>\n",
       "      <th>1995</th>\n",
       "      <td>YOUTH</td>\n",
       "      <td>Bangladeshi tech wizard developing food-delive...</td>\n",
       "      <td>https://www.thedailystar.net/youth/young-icons...</td>\n",
       "    </tr>\n",
       "    <tr>\n",
       "      <th>1996</th>\n",
       "      <td>YOUTH</td>\n",
       "      <td>Skipping towards Guinness World Records</td>\n",
       "      <td>https://www.thedailystar.net/youth/young-icons...</td>\n",
       "    </tr>\n",
       "    <tr>\n",
       "      <th>1997</th>\n",
       "      <td>YOUTH</td>\n",
       "      <td>Team Bangladesh wins four bronze medals at Int...</td>\n",
       "      <td>https://www.thedailystar.net/youth/young-icons...</td>\n",
       "    </tr>\n",
       "    <tr>\n",
       "      <th>1998</th>\n",
       "      <td>YOUTH</td>\n",
       "      <td>Building the path to a data-driven Bangladesh</td>\n",
       "      <td>https://www.thedailystar.net/youth/young-icons...</td>\n",
       "    </tr>\n",
       "    <tr>\n",
       "      <th>1999</th>\n",
       "      <td>YOUTH</td>\n",
       "      <td>CUET students shine at Concrete Projects Compe...</td>\n",
       "      <td>https://www.thedailystar.net/youth/young-icons...</td>\n",
       "    </tr>\n",
       "  </tbody>\n",
       "</table>\n",
       "<p>2000 rows × 3 columns</p>\n",
       "</div>"
      ],
      "text/plain": [
       "        category                                           headline  \\\n",
       "0     TECHNOLOGY     IBM plans to replace 30% jobs with AI: reports   \n",
       "1     TECHNOLOGY  Musk threatens to reassign NPR Twitter account...   \n",
       "2     TECHNOLOGY  Samsung brings Galaxy A34 5G and Galaxy A54 5G...   \n",
       "3     TECHNOLOGY  Smart delivery lockers to be installed in metr...   \n",
       "4     TECHNOLOGY  The Godfather of AI quits Google; warns of imp...   \n",
       "...          ...                                                ...   \n",
       "1995       YOUTH  Bangladeshi tech wizard developing food-delive...   \n",
       "1996       YOUTH            Skipping towards Guinness World Records   \n",
       "1997       YOUTH  Team Bangladesh wins four bronze medals at Int...   \n",
       "1998       YOUTH      Building the path to a data-driven Bangladesh   \n",
       "1999       YOUTH  CUET students shine at Concrete Projects Compe...   \n",
       "\n",
       "                                                   link  \n",
       "0     https://www.thedailystar.net/tech-startup/news...  \n",
       "1     https://www.thedailystar.net/tech-startup/scie...  \n",
       "2     https://www.thedailystar.net/tech-startup/news...  \n",
       "3     https://www.thedailystar.net/tech-startup/news...  \n",
       "4     https://www.thedailystar.net/tech-startup/news...  \n",
       "...                                                 ...  \n",
       "1995  https://www.thedailystar.net/youth/young-icons...  \n",
       "1996  https://www.thedailystar.net/youth/young-icons...  \n",
       "1997  https://www.thedailystar.net/youth/young-icons...  \n",
       "1998  https://www.thedailystar.net/youth/young-icons...  \n",
       "1999  https://www.thedailystar.net/youth/young-icons...  \n",
       "\n",
       "[2000 rows x 3 columns]"
      ]
     },
     "execution_count": 12,
     "metadata": {},
     "output_type": "execute_result"
    }
   ],
   "source": [
    "df = pd.read_json(\"test.json\", lines=True)\n",
    "df"
   ]
  },
  {
   "cell_type": "code",
   "execution_count": 13,
   "id": "6b559cf2",
   "metadata": {},
   "outputs": [
    {
     "data": {
      "text/plain": [
       "TECHNOLOGY       200\n",
       "BUSINESS         200\n",
       "ENTERTAINMENT    200\n",
       "ENVIRONMENT      200\n",
       "INTERNATIONAL    200\n",
       "NATIONAL         200\n",
       "LIFESTYLE        200\n",
       "POLITICS         200\n",
       "SPORTS           200\n",
       "YOUTH            200\n",
       "Name: category, dtype: int64"
      ]
     },
     "execution_count": 13,
     "metadata": {},
     "output_type": "execute_result"
    }
   ],
   "source": [
    "df['category'].value_counts()"
   ]
  },
  {
   "cell_type": "code",
   "execution_count": 14,
   "id": "f9969d68",
   "metadata": {},
   "outputs": [
    {
     "name": "stdout",
     "output_type": "stream",
     "text": [
      "BUSINESS  0\n",
      "ENTERTAINMENT  1\n",
      "ENVIRONMENT  2\n",
      "INTERNATIONAL  3\n",
      "LIFESTYLE  4\n",
      "NATIONAL  5\n",
      "POLITICS  6\n",
      "SPORTS  7\n",
      "TECHNOLOGY  8\n",
      "YOUTH  9\n"
     ]
    }
   ],
   "source": [
    "from sklearn.preprocessing import LabelEncoder\n",
    "le=LabelEncoder()\n",
    "le.fit(df['category'])\n",
    "i=0\n",
    "d={}\n",
    "for x in le.classes_:\n",
    "    print('{}  {}'.format(x,i))\n",
    "    d[x]=i\n",
    "    i=i+1"
   ]
  },
  {
   "cell_type": "code",
   "execution_count": 15,
   "id": "2eb6b8de",
   "metadata": {},
   "outputs": [
    {
     "data": {
      "text/html": [
       "<div>\n",
       "<style scoped>\n",
       "    .dataframe tbody tr th:only-of-type {\n",
       "        vertical-align: middle;\n",
       "    }\n",
       "\n",
       "    .dataframe tbody tr th {\n",
       "        vertical-align: top;\n",
       "    }\n",
       "\n",
       "    .dataframe thead th {\n",
       "        text-align: right;\n",
       "    }\n",
       "</style>\n",
       "<table border=\"1\" class=\"dataframe\">\n",
       "  <thead>\n",
       "    <tr style=\"text-align: right;\">\n",
       "      <th></th>\n",
       "      <th>category</th>\n",
       "      <th>headline</th>\n",
       "      <th>link</th>\n",
       "      <th>encoded category</th>\n",
       "    </tr>\n",
       "  </thead>\n",
       "  <tbody>\n",
       "    <tr>\n",
       "      <th>0</th>\n",
       "      <td>TECHNOLOGY</td>\n",
       "      <td>IBM plans to replace 30% jobs with AI: reports</td>\n",
       "      <td>https://www.thedailystar.net/tech-startup/news...</td>\n",
       "      <td>8</td>\n",
       "    </tr>\n",
       "    <tr>\n",
       "      <th>1</th>\n",
       "      <td>TECHNOLOGY</td>\n",
       "      <td>Musk threatens to reassign NPR Twitter account...</td>\n",
       "      <td>https://www.thedailystar.net/tech-startup/scie...</td>\n",
       "      <td>8</td>\n",
       "    </tr>\n",
       "    <tr>\n",
       "      <th>2</th>\n",
       "      <td>TECHNOLOGY</td>\n",
       "      <td>Samsung brings Galaxy A34 5G and Galaxy A54 5G...</td>\n",
       "      <td>https://www.thedailystar.net/tech-startup/news...</td>\n",
       "      <td>8</td>\n",
       "    </tr>\n",
       "    <tr>\n",
       "      <th>3</th>\n",
       "      <td>TECHNOLOGY</td>\n",
       "      <td>Smart delivery lockers to be installed in metr...</td>\n",
       "      <td>https://www.thedailystar.net/tech-startup/news...</td>\n",
       "      <td>8</td>\n",
       "    </tr>\n",
       "    <tr>\n",
       "      <th>4</th>\n",
       "      <td>TECHNOLOGY</td>\n",
       "      <td>The Godfather of AI quits Google; warns of imp...</td>\n",
       "      <td>https://www.thedailystar.net/tech-startup/news...</td>\n",
       "      <td>8</td>\n",
       "    </tr>\n",
       "    <tr>\n",
       "      <th>...</th>\n",
       "      <td>...</td>\n",
       "      <td>...</td>\n",
       "      <td>...</td>\n",
       "      <td>...</td>\n",
       "    </tr>\n",
       "    <tr>\n",
       "      <th>1995</th>\n",
       "      <td>YOUTH</td>\n",
       "      <td>Bangladeshi tech wizard developing food-delive...</td>\n",
       "      <td>https://www.thedailystar.net/youth/young-icons...</td>\n",
       "      <td>9</td>\n",
       "    </tr>\n",
       "    <tr>\n",
       "      <th>1996</th>\n",
       "      <td>YOUTH</td>\n",
       "      <td>Skipping towards Guinness World Records</td>\n",
       "      <td>https://www.thedailystar.net/youth/young-icons...</td>\n",
       "      <td>9</td>\n",
       "    </tr>\n",
       "    <tr>\n",
       "      <th>1997</th>\n",
       "      <td>YOUTH</td>\n",
       "      <td>Team Bangladesh wins four bronze medals at Int...</td>\n",
       "      <td>https://www.thedailystar.net/youth/young-icons...</td>\n",
       "      <td>9</td>\n",
       "    </tr>\n",
       "    <tr>\n",
       "      <th>1998</th>\n",
       "      <td>YOUTH</td>\n",
       "      <td>Building the path to a data-driven Bangladesh</td>\n",
       "      <td>https://www.thedailystar.net/youth/young-icons...</td>\n",
       "      <td>9</td>\n",
       "    </tr>\n",
       "    <tr>\n",
       "      <th>1999</th>\n",
       "      <td>YOUTH</td>\n",
       "      <td>CUET students shine at Concrete Projects Compe...</td>\n",
       "      <td>https://www.thedailystar.net/youth/young-icons...</td>\n",
       "      <td>9</td>\n",
       "    </tr>\n",
       "  </tbody>\n",
       "</table>\n",
       "<p>2000 rows × 4 columns</p>\n",
       "</div>"
      ],
      "text/plain": [
       "        category                                           headline  \\\n",
       "0     TECHNOLOGY     IBM plans to replace 30% jobs with AI: reports   \n",
       "1     TECHNOLOGY  Musk threatens to reassign NPR Twitter account...   \n",
       "2     TECHNOLOGY  Samsung brings Galaxy A34 5G and Galaxy A54 5G...   \n",
       "3     TECHNOLOGY  Smart delivery lockers to be installed in metr...   \n",
       "4     TECHNOLOGY  The Godfather of AI quits Google; warns of imp...   \n",
       "...          ...                                                ...   \n",
       "1995       YOUTH  Bangladeshi tech wizard developing food-delive...   \n",
       "1996       YOUTH            Skipping towards Guinness World Records   \n",
       "1997       YOUTH  Team Bangladesh wins four bronze medals at Int...   \n",
       "1998       YOUTH      Building the path to a data-driven Bangladesh   \n",
       "1999       YOUTH  CUET students shine at Concrete Projects Compe...   \n",
       "\n",
       "                                                   link  encoded category  \n",
       "0     https://www.thedailystar.net/tech-startup/news...                 8  \n",
       "1     https://www.thedailystar.net/tech-startup/scie...                 8  \n",
       "2     https://www.thedailystar.net/tech-startup/news...                 8  \n",
       "3     https://www.thedailystar.net/tech-startup/news...                 8  \n",
       "4     https://www.thedailystar.net/tech-startup/news...                 8  \n",
       "...                                                 ...               ...  \n",
       "1995  https://www.thedailystar.net/youth/young-icons...                 9  \n",
       "1996  https://www.thedailystar.net/youth/young-icons...                 9  \n",
       "1997  https://www.thedailystar.net/youth/young-icons...                 9  \n",
       "1998  https://www.thedailystar.net/youth/young-icons...                 9  \n",
       "1999  https://www.thedailystar.net/youth/young-icons...                 9  \n",
       "\n",
       "[2000 rows x 4 columns]"
      ]
     },
     "execution_count": 15,
     "metadata": {},
     "output_type": "execute_result"
    }
   ],
   "source": [
    "df['encoded category']=le.transform(df['category'])\n",
    "df['encoded category']=df['encoded category'].astype(int)\n",
    "df"
   ]
  },
  {
   "cell_type": "code",
   "execution_count": 16,
   "id": "cb7ad030",
   "metadata": {},
   "outputs": [],
   "source": [
    "from tensorflow.keras.utils import to_categorical\n",
    "y=to_categorical(df['encoded category'])"
   ]
  },
  {
   "cell_type": "code",
   "execution_count": 17,
   "id": "82c2abcc",
   "metadata": {},
   "outputs": [],
   "source": [
    "from sklearn.model_selection import train_test_split\n",
    "\n",
    "x_train, x_val, y_train, y_val = train_test_split(df.headline.values, \n",
    "                                                  y, \n",
    "                                                  test_size=0.1, \n",
    "                                                  random_state=42, \n",
    "                                                  stratify=df['encoded category'].values)"
   ]
  },
  {
   "cell_type": "code",
   "execution_count": 18,
   "id": "7a9912b2",
   "metadata": {},
   "outputs": [
    {
     "data": {
      "text/plain": [
       "array([0, 4, 9, 1, 7, 5, 8, 1, 7, 6, 6, 9, 8, 9, 1, 6, 1, 2, 2, 8, 0, 5,\n",
       "       8, 5, 1, 2, 8, 0, 5, 3, 3, 8, 7, 0, 7, 8, 9, 7, 2, 3, 8, 3, 4, 7,\n",
       "       6, 9, 9, 2, 7, 7, 1, 7, 6, 8, 9, 7, 5, 6, 7, 7, 2, 3, 6, 8, 7, 6,\n",
       "       6, 1, 0, 5, 1, 0, 5, 8, 8, 4, 0, 9, 6, 3, 1, 1, 9, 3, 6, 6, 4, 6,\n",
       "       4, 8, 2, 1, 4, 1, 3, 1, 0, 2, 6, 7, 8, 4, 8, 6, 4, 1, 6, 9, 5, 4,\n",
       "       4, 4, 5, 9, 0, 7, 1, 3, 3, 5, 2, 5, 0, 4, 6, 2, 1, 5, 7, 0, 5, 9,\n",
       "       2, 0, 0, 4, 5, 3, 4, 3, 2, 4, 9, 0, 3, 9, 9, 2, 3, 3, 5, 0, 4, 0,\n",
       "       0, 7, 8, 3, 4, 3, 1, 6, 2, 1, 6, 3, 0, 7, 8, 8, 2, 5, 9, 4, 0, 5,\n",
       "       9, 8, 7, 2, 2, 5, 2, 8, 2, 3, 7, 4, 3, 5, 9, 0, 4, 2, 6, 1, 1, 9,\n",
       "       5, 9], dtype=int64)"
      ]
     },
     "execution_count": 18,
     "metadata": {},
     "output_type": "execute_result"
    }
   ],
   "source": [
    "y_test=np.argmax(y_val,axis=-1)\n",
    "y_test"
   ]
  },
  {
   "cell_type": "code",
   "execution_count": 2,
   "id": "c147316f",
   "metadata": {},
   "outputs": [],
   "source": [
    "from transformers import BertTokenizer\n",
    "tokenizer=BertTokenizer.from_pretrained('bert-base-uncased')"
   ]
  },
  {
   "cell_type": "code",
   "execution_count": 8,
   "id": "1d728067",
   "metadata": {},
   "outputs": [
    {
     "name": "stdout",
     "output_type": "stream",
     "text": [
      "input_ids : [101, 4938, 3487, 9762, 2124, 2004, 4116, 9762, 2003, 1037, 7214, 2839, 1999, 14936, 102, 0, 0, 0, 0, 0]\n",
      "token_type_ids : [0, 0, 0, 0, 0, 0, 0, 0, 0, 0, 0, 0, 0, 0, 0, 0, 0, 0, 0, 0]\n",
      "attention_mask : [1, 1, 1, 1, 1, 1, 1, 1, 1, 1, 1, 1, 1, 1, 1, 0, 0, 0, 0, 0]\n"
     ]
    }
   ],
   "source": [
    "encoding = tokenizer(\n",
    "    'Anthony Edward Stark known as Tony Stark is a fictional character in Avengers',\n",
    "    add_special_tokens=True,\n",
    "    max_length=20,\n",
    "    truncation=False,\n",
    "    padding='max_length', \n",
    "    )\n",
    "for key, value in encoding.items():\n",
    "    print( '{} : {}'.format( key, value ) )\n"
   ]
  },
  {
   "cell_type": "code",
   "execution_count": 32,
   "id": "c490122d",
   "metadata": {},
   "outputs": [],
   "source": [
    "x_train = tokenizer(\n",
    "    text=x_train.tolist(),\n",
    "    add_special_tokens=True,\n",
    "    max_length=128,\n",
    "    truncation=False,\n",
    "    padding='max_length', \n",
    "    return_tensors='tf',\n",
    "    return_token_type_ids = False,\n",
    "    return_attention_mask = True,\n",
    "    verbose = True)"
   ]
  },
  {
   "cell_type": "code",
   "execution_count": 33,
   "id": "cde6e6f3",
   "metadata": {},
   "outputs": [
    {
     "data": {
      "text/plain": [
       "TensorShape([1800, 128])"
      ]
     },
     "execution_count": 33,
     "metadata": {},
     "output_type": "execute_result"
    }
   ],
   "source": [
    "x_train['input_ids'].shape"
   ]
  },
  {
   "cell_type": "code",
   "execution_count": 19,
   "id": "e52a73dd",
   "metadata": {},
   "outputs": [],
   "source": [
    "x_test = tokenizer(\n",
    "    text=x_val.tolist(),\n",
    "    add_special_tokens=True,\n",
    "    max_length=128,\n",
    "    truncation=True,\n",
    "    padding='max_length', \n",
    "    return_tensors='tf',\n",
    "    return_token_type_ids = False,\n",
    "    return_attention_mask = True,\n",
    "    verbose = True)"
   ]
  },
  {
   "cell_type": "code",
   "execution_count": 20,
   "id": "c70c2c5d",
   "metadata": {},
   "outputs": [],
   "source": [
    "import tensorflow as tf\n",
    "from tensorflow.keras.optimizers import Adam\n",
    "from tensorflow.keras.callbacks import EarlyStopping\n",
    "from tensorflow.keras.initializers import TruncatedNormal\n",
    "from tensorflow.keras.losses import CategoricalCrossentropy\n",
    "from tensorflow.keras.metrics import CategoricalAccuracy\n",
    "from tensorflow.keras.utils import to_categorical\n",
    "from tensorflow.keras.layers import Input, Dense"
   ]
  },
  {
   "cell_type": "code",
   "execution_count": 21,
   "id": "16a68210",
   "metadata": {},
   "outputs": [
    {
     "name": "stderr",
     "output_type": "stream",
     "text": [
      "Some layers from the model checkpoint at bert-base-uncased were not used when initializing TFBertModel: ['nsp___cls', 'mlm___cls']\n",
      "- This IS expected if you are initializing TFBertModel from the checkpoint of a model trained on another task or with another architecture (e.g. initializing a BertForSequenceClassification model from a BertForPreTraining model).\n",
      "- This IS NOT expected if you are initializing TFBertModel from the checkpoint of a model that you expect to be exactly identical (initializing a BertForSequenceClassification model from a BertForSequenceClassification model).\n",
      "All the layers of TFBertModel were initialized from the model checkpoint at bert-base-uncased.\n",
      "If your task is similar to the task the model of the checkpoint was trained on, you can already use TFBertModel for predictions without further training.\n"
     ]
    }
   ],
   "source": [
    "from transformers import TFBertModel\n",
    "bert = TFBertModel.from_pretrained(\"bert-base-uncased\")"
   ]
  },
  {
   "cell_type": "code",
   "execution_count": 22,
   "id": "7a51139c",
   "metadata": {},
   "outputs": [],
   "source": [
    "#Creating the neural network\n",
    "max_len = 128\n",
    "input_ids = Input(shape=(max_len,), dtype=tf.int32, name=\"input_ids\")\n",
    "input_mask = Input(shape=(max_len,), dtype=tf.int32, name=\"attention_mask\")\n",
    "embeddings = bert(input_ids,attention_mask = input_mask)[1] \n",
    "\n",
    "intermediate_layer = tf.keras.layers.Dense(256, activation='relu', name='intermediate_layer')(embeddings)\n",
    "intermediate_layer=tf.keras.layers.Dropout(0.1)(intermediate_layer)\n",
    "\n",
    "output_layer = tf.keras.layers.Dense(10, activation='softmax', name='output_layer')(intermediate_layer)\n",
    "\n",
    "model = tf.keras.Model(inputs=[input_ids, input_mask], outputs=output_layer)\n",
    "model.layers[2].trainable = True"
   ]
  },
  {
   "cell_type": "code",
   "execution_count": 23,
   "id": "d9ca68ca",
   "metadata": {},
   "outputs": [
    {
     "data": {
      "text/plain": [
       "<tensorflow.python.checkpoint.checkpoint.CheckpointLoadStatus at 0x293b580c760>"
      ]
     },
     "execution_count": 23,
     "metadata": {},
     "output_type": "execute_result"
    }
   ],
   "source": [
    "model.load_weights(\"weights1/\")"
   ]
  },
  {
   "cell_type": "code",
   "execution_count": 24,
   "id": "32e923db",
   "metadata": {},
   "outputs": [],
   "source": [
    "optim = tf.keras.optimizers.Adam(learning_rate=1e-5)\n",
    "loss_func = tf.keras.losses.CategoricalCrossentropy()\n",
    "acc = tf.keras.metrics.CategoricalAccuracy('accuracy')\n",
    "model.compile(optimizer=optim, loss=loss_func, metrics=[acc])"
   ]
  },
  {
   "cell_type": "code",
   "execution_count": 39,
   "id": "7bcb11b9",
   "metadata": {},
   "outputs": [
    {
     "name": "stdout",
     "output_type": "stream",
     "text": [
      "Epoch 1/5\n",
      "57/57 [==============================] - 2251s 39s/step - loss: 2.2256 - accuracy: 0.1983 - val_loss: 1.8510 - val_accuracy: 0.5300\n",
      "Epoch 2/5\n",
      "57/57 [==============================] - 2242s 39s/step - loss: 1.5400 - accuracy: 0.5689 - val_loss: 1.1240 - val_accuracy: 0.7000\n",
      "Epoch 3/5\n",
      "57/57 [==============================] - 2181s 38s/step - loss: 0.9996 - accuracy: 0.7100 - val_loss: 0.8400 - val_accuracy: 0.7450\n",
      "Epoch 4/5\n",
      "57/57 [==============================] - 1865s 33s/step - loss: 0.7193 - accuracy: 0.7967 - val_loss: 0.7057 - val_accuracy: 0.7750\n",
      "Epoch 5/5\n",
      "57/57 [==============================] - 1829s 32s/step - loss: 0.5371 - accuracy: 0.8494 - val_loss: 0.6865 - val_accuracy: 0.8050\n"
     ]
    }
   ],
   "source": [
    "train_history = model.fit(\n",
    "    x ={'input_ids':x_train['input_ids'],'attention_mask':x_train['attention_mask']} ,\n",
    "    y = y_train,\n",
    "    validation_data = (\n",
    "    {'input_ids':x_test['input_ids'],'attention_mask':x_test['attention_mask']}, y_val\n",
    "    ),\n",
    "  epochs=5,\n",
    "    batch_size=32\n",
    ")"
   ]
  },
  {
   "cell_type": "code",
   "execution_count": 40,
   "id": "bf8522df",
   "metadata": {},
   "outputs": [],
   "source": [
    "model.save_weights('weights1/')"
   ]
  },
  {
   "cell_type": "code",
   "execution_count": 25,
   "id": "f50b8f00",
   "metadata": {},
   "outputs": [],
   "source": [
    "def prepare_data(input_text, tokenizer):\n",
    "    token = tokenizer(\n",
    "    text=input_text,\n",
    "    add_special_tokens=True,\n",
    "    max_length=128,\n",
    "    truncation=True,\n",
    "    padding='max_length', \n",
    "    return_tensors='tf',\n",
    "    return_token_type_ids = False,\n",
    "    return_attention_mask = True,\n",
    "    verbose = True)\n",
    "    \n",
    "    return {\n",
    "        'input_ids': token.input_ids,\n",
    "        'attention_mask': token.attention_mask\n",
    "    }\n",
    "\n",
    "def make_prediction(model, processed_data):\n",
    "    probs = model.predict(processed_data)\n",
    "    return probs"
   ]
  },
  {
   "cell_type": "code",
   "execution_count": 26,
   "id": "a606f3eb",
   "metadata": {},
   "outputs": [
    {
     "name": "stdout",
     "output_type": "stream",
     "text": [
      "7/7 [==============================] - 62s 8s/step\n"
     ]
    }
   ],
   "source": [
    "predictions=make_prediction(model,{'input_ids': x_test['input_ids'],\n",
    "        'attention_mask': x_test['attention_mask']})"
   ]
  },
  {
   "cell_type": "code",
   "execution_count": 27,
   "id": "72c08da0",
   "metadata": {},
   "outputs": [
    {
     "name": "stdout",
     "output_type": "stream",
     "text": [
      "[0 4 9 1 7 5 8 1 7 6 6 9 8 9 1 6 1 2 2 8 0 5 8 5 1 2 8 0 5 3 3 8 7 0 7 8 9\n",
      " 7 2 3 8 3 4 7 6 9 9 2 7 7 1 7 6 8 9 7 5 6 7 7 2 3 6 8 7 6 6 1 0 5 1 0 5 8\n",
      " 8 4 0 9 6 3 1 1 9 3 6 6 4 6 4 8 2 1 4 1 3 1 0 2 6 7 8 4 8 6 4 1 6 9 5 4 4\n",
      " 4 5 9 0 7 1 3 3 5 2 5 0 4 6 2 1 5 7 0 5 9 2 0 0 4 5 3 4 3 2 4 9 0 3 9 9 2\n",
      " 3 3 5 0 4 0 0 7 8 3 4 3 1 6 2 1 6 3 0 7 8 8 2 5 9 4 0 5 9 8 7 2 2 5 2 8 2\n",
      " 3 7 4 3 5 9 0 4 2 6 1 1 9 5 9] [0 4 4 1 1 5 8 9 1 6 6 9 4 9 1 6 1 5 3 8 9 6 8 5 1 4 8 0 5 3 3 0 7 0 7 8 9\n",
      " 7 2 3 8 3 4 7 5 9 9 0 7 7 1 7 6 4 9 7 6 6 7 7 2 3 6 0 7 6 6 5 0 6 1 0 5 0\n",
      " 9 4 0 9 6 3 1 1 9 3 6 6 4 6 4 8 2 1 1 1 3 1 0 2 6 7 8 4 0 6 4 1 5 5 5 4 4\n",
      " 4 2 9 0 7 1 3 2 5 2 0 0 4 6 2 1 9 7 0 5 9 2 0 0 4 5 3 4 3 5 4 9 5 3 9 9 0\n",
      " 3 3 8 0 4 5 0 7 8 0 4 3 1 6 2 1 6 0 0 7 5 8 2 2 9 4 0 2 9 8 7 2 2 5 2 8 2\n",
      " 3 7 4 3 5 4 0 4 2 6 1 1 9 5 9]\n"
     ]
    }
   ],
   "source": [
    "#y_predicted = np.argmax(predictions, axis = 1)\n",
    "print(y_test,y_predicted)"
   ]
  },
  {
   "cell_type": "code",
   "execution_count": 28,
   "id": "24d44fde",
   "metadata": {},
   "outputs": [
    {
     "data": {
      "text/html": [
       "<div>\n",
       "<style scoped>\n",
       "    .dataframe tbody tr th:only-of-type {\n",
       "        vertical-align: middle;\n",
       "    }\n",
       "\n",
       "    .dataframe tbody tr th {\n",
       "        vertical-align: top;\n",
       "    }\n",
       "\n",
       "    .dataframe thead th {\n",
       "        text-align: right;\n",
       "    }\n",
       "</style>\n",
       "<table border=\"1\" class=\"dataframe\">\n",
       "  <thead>\n",
       "    <tr style=\"text-align: right;\">\n",
       "      <th></th>\n",
       "      <th>Actual</th>\n",
       "      <th>Predicted</th>\n",
       "    </tr>\n",
       "  </thead>\n",
       "  <tbody>\n",
       "    <tr>\n",
       "      <th>0</th>\n",
       "      <td>0</td>\n",
       "      <td>0</td>\n",
       "    </tr>\n",
       "    <tr>\n",
       "      <th>1</th>\n",
       "      <td>4</td>\n",
       "      <td>4</td>\n",
       "    </tr>\n",
       "    <tr>\n",
       "      <th>2</th>\n",
       "      <td>9</td>\n",
       "      <td>4</td>\n",
       "    </tr>\n",
       "    <tr>\n",
       "      <th>3</th>\n",
       "      <td>1</td>\n",
       "      <td>1</td>\n",
       "    </tr>\n",
       "    <tr>\n",
       "      <th>4</th>\n",
       "      <td>7</td>\n",
       "      <td>1</td>\n",
       "    </tr>\n",
       "    <tr>\n",
       "      <th>...</th>\n",
       "      <td>...</td>\n",
       "      <td>...</td>\n",
       "    </tr>\n",
       "    <tr>\n",
       "      <th>195</th>\n",
       "      <td>1</td>\n",
       "      <td>1</td>\n",
       "    </tr>\n",
       "    <tr>\n",
       "      <th>196</th>\n",
       "      <td>1</td>\n",
       "      <td>1</td>\n",
       "    </tr>\n",
       "    <tr>\n",
       "      <th>197</th>\n",
       "      <td>9</td>\n",
       "      <td>9</td>\n",
       "    </tr>\n",
       "    <tr>\n",
       "      <th>198</th>\n",
       "      <td>5</td>\n",
       "      <td>5</td>\n",
       "    </tr>\n",
       "    <tr>\n",
       "      <th>199</th>\n",
       "      <td>9</td>\n",
       "      <td>9</td>\n",
       "    </tr>\n",
       "  </tbody>\n",
       "</table>\n",
       "<p>200 rows × 2 columns</p>\n",
       "</div>"
      ],
      "text/plain": [
       "     Actual  Predicted\n",
       "0         0          0\n",
       "1         4          4\n",
       "2         9          4\n",
       "3         1          1\n",
       "4         7          1\n",
       "..      ...        ...\n",
       "195       1          1\n",
       "196       1          1\n",
       "197       9          9\n",
       "198       5          5\n",
       "199       9          9\n",
       "\n",
       "[200 rows x 2 columns]"
      ]
     },
     "execution_count": 28,
     "metadata": {},
     "output_type": "execute_result"
    }
   ],
   "source": [
    "df_result=pd.DataFrame({\"Actual\":y_test,\"Predicted\":y_predicted})\n",
    "df_result"
   ]
  },
  {
   "cell_type": "code",
   "execution_count": 33,
   "id": "5b3ccf99",
   "metadata": {},
   "outputs": [
    {
     "name": "stdout",
     "output_type": "stream",
     "text": [
      "               precision    recall  f1-score   support\n",
      "\n",
      "     BUSINESS       0.65      0.85      0.74        20\n",
      "ENTERTAINMENT       0.86      0.90      0.88        20\n",
      "  ENVIRONMENT       0.78      0.70      0.74        20\n",
      "INTERNATIONAL       0.94      0.85      0.89        20\n",
      "    LIFESTYLE       0.79      0.95      0.86        20\n",
      "     NATIONAL       0.55      0.55      0.55        20\n",
      "     POLITICS       0.86      0.90      0.88        20\n",
      "       SPORTS       1.00      0.90      0.95        20\n",
      "   TECHNOLOGY       0.92      0.60      0.73        20\n",
      "        YOUTH       0.81      0.85      0.83        20\n",
      "\n",
      "     accuracy                           0.81       200\n",
      "    macro avg       0.82      0.80      0.80       200\n",
      " weighted avg       0.82      0.81      0.80       200\n",
      "\n"
     ]
    }
   ],
   "source": [
    "pre=le.inverse_transform(y_predicted)\n",
    "og=le.inverse_transform(y_test)\n",
    "from sklearn.metrics import classification_report\n",
    "print(classification_report(og,pre))"
   ]
  },
  {
   "cell_type": "code",
   "execution_count": 32,
   "id": "e3687eb1",
   "metadata": {},
   "outputs": [
    {
     "data": {
      "text/plain": [
       "Text(0.5, 36.72222222222221, 'predicted Values')"
      ]
     },
     "execution_count": 32,
     "metadata": {},
     "output_type": "execute_result"
    },
    {
     "data": {
      "image/png": "[encoded data removed]",
      "text/plain": [
       "<Figure size 1500x600 with 2 Axes>"
      ]
     },
     "metadata": {},
     "output_type": "display_data"
    }
   ],
   "source": [
    "\n",
    "import seaborn as sns\n",
    "from sklearn.metrics import confusion_matrix\n",
    "outputs=df['category'].unique()\n",
    "cm = confusion_matrix(y_test, y_predicted)\n",
    "cm_df = pd.DataFrame(cm,\n",
    "                    outputs, \n",
    "                    outputs)\n",
    "#Plotting the confusion matrix\n",
    "plt.figure(figsize=(15,6))\n",
    "sns.heatmap(cm_df, annot=True,cmap=\"Greens\")\n",
    "plt.title('Confusion Matrix')\n",
    "plt.ylabel('Actual Values')\n",
    "plt.xlabel('predicted Values')"
   ]
  },
  {
   "cell_type": "code",
   "execution_count": 34,
   "id": "a43f52df",
   "metadata": {},
   "outputs": [
    {
     "name": "stdout",
     "output_type": "stream",
     "text": [
      "1/1 [==============================] - 2s 2s/step\n",
      "Predicted Class is BUSINESS\n"
     ]
    }
   ],
   "source": [
    "input_text = \"CPD raises flag over US turning into top remittance source\"\n",
    "processed_data = prepare_data(input_text, tokenizer)\n",
    "result = make_prediction(model, processed_data)\n",
    "cls=np.argmax(result[0],axis=-1)\n",
    "for x in d:\n",
    "    if(d[x]==cls):\n",
    "        print(\"Predicted Class is \"+x)\n",
    "        break"
   ]
  },
  {
   "cell_type": "code",
   "execution_count": null,
   "id": "0313e768",
   "metadata": {},
   "outputs": [],
   "source": []
  }
 ],
 "metadata": {
  "kernelspec": {
   "display_name": "Python 3 (ipykernel)",
   "language": "python",
   "name": "python3"
  },
  "language_info": {
   "codemirror_mode": {
    "name": "ipython",
    "version": 3
   },
   "file_extension": ".py",
   "mimetype": "text/x-python",
   "name": "python",
   "nbconvert_exporter": "python",
   "pygments_lexer": "ipython3",
   "version": "3.9.16"
  }
 },
 "nbformat": 4,
 "nbformat_minor": 5
}
